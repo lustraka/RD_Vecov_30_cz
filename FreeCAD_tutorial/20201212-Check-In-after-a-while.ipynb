{
 "cells": [
  {
   "cell_type": "code",
   "execution_count": 37,
   "metadata": {},
   "outputs": [],
   "source": [
    "class Walls():\n",
    "    def __init__(self, name, pl, hv, wl, pos):\n",
    "        self.name = name\n",
    "        self.pl = pl # 2D limit points\n",
    "        self.hv = hv # hight\n",
    "        self.wl = wl # walls' widths\n",
    "        self.pos = pos # position of [0,0] in the building\n",
    "    \n",
    "    def get(self):\n",
    "        print(f'wl = {self.wl}')\n",
    "        print(f'hv = {self.hv}')\n",
    "        print(f'pl = [')\n",
    "        for point in self.pl:\n",
    "            print(f'FreeCAD.Vector({point[0]}, {point[1]}, 0),')\n",
    "        print(']')\n",
    "        print('ll = [')\n",
    "        print('Draft.makeLine(pl[0], pl[1]),')\n",
    "        print('Draft.makeLine(pl[1], pl[2]),')\n",
    "        print('Draft.makeLine(pl[2], pl[3]),')\n",
    "        print('Draft.makeLine(pl[3], pl[0])]')\n",
    "        print('wal = [')\n",
    "        for n in range(4):\n",
    "            print(f'Arch.makeWall(ll[{n}], length=None, width=wl[{n}], height=hv, align=\"Left\", name=\"{self.name}_w{n+1}\"),')\n",
    "        print(']')\n",
    "        print(f'{self.name} = wal[0]\\nArch.addComponents(wal[1:], {self.name})')\n",
    "        print(f'Draft.move(wal, FreeCAD.Vector({self.pos[0]}, {self.pos[1]}, {self.pos[2]}))')"
   ]
  },
  {
   "cell_type": "code",
   "execution_count": 49,
   "metadata": {},
   "outputs": [],
   "source": [
    "class Struct():\n",
    "    def __init__(self, name, length, width, height, pos):\n",
    "        self.name = name\n",
    "        self.length = length\n",
    "        self.width = width\n",
    "        self.height = height\n",
    "        self.pos = pos\n",
    "        \n",
    "    def get(self):\n",
    "        print(f'Rect = Draft.makeRectangle({self.length}, {self.width})')\n",
    "        print(f'{self.name} = Arch.makeStructure(Rect, height={self.height}, name=\"{self.name}\")')\n",
    "        # print(f'{self.name} = Arch.makeStructure(None, length={self.length}, width={self.width}, height={self.height})')\n",
    "        print(f'Draft.move({self.name}, FreeCAD.Vector({self.pos[0]}, {self.pos[1]}, {self.pos[2]}))')"
   ]
  },
  {
   "cell_type": "code",
   "execution_count": 51,
   "metadata": {},
   "outputs": [
    {
     "name": "stdout",
     "output_type": "stream",
     "text": [
      "import FreeCAD, Draft, Arch\n",
      "\n",
      "wl = [150, 150, 150, 150]\n",
      "hv = 1050\n",
      "pl = [\n",
      "FreeCAD.Vector(0, 0, 0),\n",
      "FreeCAD.Vector(0, 1000, 0),\n",
      "FreeCAD.Vector(1000, 1000, 0),\n",
      "FreeCAD.Vector(1000, 0, 0),\n",
      "]\n",
      "ll = [\n",
      "Draft.makeLine(pl[0], pl[1]),\n",
      "Draft.makeLine(pl[1], pl[2]),\n",
      "Draft.makeLine(pl[2], pl[3]),\n",
      "Draft.makeLine(pl[3], pl[0])]\n",
      "wal = [\n",
      "Arch.makeWall(ll[0], length=None, width=wl[0], height=hv, align=\"Left\", name=\"Axx_w1\"),\n",
      "Arch.makeWall(ll[1], length=None, width=wl[1], height=hv, align=\"Left\", name=\"Axx_w2\"),\n",
      "Arch.makeWall(ll[2], length=None, width=wl[2], height=hv, align=\"Left\", name=\"Axx_w3\"),\n",
      "Arch.makeWall(ll[3], length=None, width=wl[3], height=hv, align=\"Left\", name=\"Axx_w4\"),\n",
      "]\n",
      "Axx = wal[0]\n",
      "Arch.addComponents(wal[1:], Axx)\n",
      "Draft.move(wal, FreeCAD.Vector(0, 0, 500))\n",
      "Rect = Draft.makeRectangle(100, 100)\n",
      "stru1 = Arch.makeStructure(Rect, height=500, name=\"stru1\")\n",
      "Draft.move(stru1, FreeCAD.Vector(450, 0, 0))\n",
      "Arch.addComponents(stru1, Axx)\n",
      "\n",
      "FreeCAD.ActiveDocument.recompute()\n",
      "\n"
     ]
    }
   ],
   "source": [
    "print(f'import FreeCAD, Draft, Arch\\n')\n",
    "w1 = Walls('Axx', [[0,0], [0, 1000], [1000, 1000], [1000, 0]], 1050, [150, 150, 150, 150], [0, 0, 500])\n",
    "stru1 = Struct('stru1', 100, 100, 500, [450, 0, 0])\n",
    "w1.get()\n",
    "stru1.get()\n",
    "#print('Arch.removeComponents(stru1, Axx)')\n",
    "print('Arch.addComponents(stru1, Axx)')\n",
    "print('\\nFreeCAD.ActiveDocument.recompute()\\n')"
   ]
  },
  {
   "cell_type": "code",
   "execution_count": null,
   "metadata": {},
   "outputs": [],
   "source": []
  }
 ],
 "metadata": {
  "kernelspec": {
   "display_name": "Python 3",
   "language": "python",
   "name": "python3"
  },
  "language_info": {
   "codemirror_mode": {
    "name": "ipython",
    "version": 3
   },
   "file_extension": ".py",
   "mimetype": "text/x-python",
   "name": "python",
   "nbconvert_exporter": "python",
   "pygments_lexer": "ipython3",
   "version": "3.7.9"
  }
 },
 "nbformat": 4,
 "nbformat_minor": 4
}
